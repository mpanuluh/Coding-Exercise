{
  "nbformat": 4,
  "nbformat_minor": 0,
  "metadata": {
    "colab": {
      "name": "FizzBuzz Apabole for Stamps Mini-test.ipynb",
      "provenance": [],
      "authorship_tag": "ABX9TyPTG0c0BqoA8J9wLnij6gDr",
      "include_colab_link": true
    },
    "kernelspec": {
      "name": "python3",
      "display_name": "Python 3"
    },
    "language_info": {
      "name": "python"
    }
  },
  "cells": [
    {
      "cell_type": "markdown",
      "metadata": {
        "id": "view-in-github",
        "colab_type": "text"
      },
      "source": [
        "<a href=\"https://colab.research.google.com/github/mpanuluh/Coding-Exercise/blob/main/FizzBuzz_Apabole_for_Stamps_Mini_test.ipynb\" target=\"_parent\"><img src=\"https://colab.research.google.com/assets/colab-badge.svg\" alt=\"Open In Colab\"/></a>"
      ]
    },
    {
      "cell_type": "markdown",
      "source": [
        "#Stamps Mini-test\n",
        "\n",
        "Tolong print angka dari 1 sampai 100. Tetapi, Ada peraturan khusus:\n",
        "\n",
        " \n",
        "\n",
        "1. Untuk setiap angka yang bisa dibagi dengan 3, jangan print angka nya, tapi print \"Apa\".\n",
        "\n",
        "2. Kalau bisa dibagi dengan 5, print \"Bole\",\n",
        "\n",
        "3. Kalau bisa dibagi oleh 3 dan 5, print \"ApaBole\".\n",
        "\n"
      ],
      "metadata": {
        "id": "Ipof7SK9Ob9n"
      }
    },
    {
      "cell_type": "markdown",
      "source": [
        "#Version 1 Simple\n",
        "\n",
        "Initially I made \"apa\" assignment on top followed by \"bole\" assignment then \"apabole\" assignment. This however does not work properly as \"bole\" and \"apa\" assignement cancel out the the \"apabole\" condition. This happened because before going to \"apabole\" condition (i%3 and i%5 equals to 0) the variable i already fulfilled by \"apa\" or \"bole\" condition. Hence I changed the \"apabole\" condition on top followed by other condition."
      ],
      "metadata": {
        "id": "PXkubHZqMHGO"
      }
    },
    {
      "cell_type": "code",
      "source": [
        "for i in range(1, 101):\n",
        "#to count from 1 to 100\n",
        "    if i % 15 is 0:\n",
        "#assign apabole if i%3=0 and i%5 =0 or to simplify i%15=0 \n",
        "        print(\"apabole\")\n",
        "    elif i % 3 is 0:\n",
        "        print(\"apa\")\n",
        "    elif i % 5 is 0:\n",
        "        print(\"bole\")\n",
        "    else:\n",
        "        print(i)"
      ],
      "metadata": {
        "id": "4Pw_fPAKKaHo"
      },
      "execution_count": null,
      "outputs": []
    },
    {
      "cell_type": "markdown",
      "source": [
        "#Version 2 defined function\n",
        "\n",
        "This version is the imputing the same program as above but put it in a function and display the output on a list so that it follows the mini test display requirement\n"
      ],
      "metadata": {
        "id": "JV64ZbkxN_m3"
      }
    },
    {
      "cell_type": "code",
      "source": [
        "class Solution(object):\n",
        "   def apabole(self, n):\n",
        "     result = []\n",
        "     for i in range(1,n+1): \n",
        "        if i%15==0:\n",
        "              result.append('apabole')\n",
        "              continue\n",
        "        elif i%5==0:\n",
        "              result.append('bole')\n",
        "              continue\n",
        "        elif i%3==0:\n",
        "              result.append(\"apa\")\n",
        "        else:\n",
        "              result.append(i)\n",
        "     return result   \n",
        "ob = Solution()\n",
        "print(ob.apabole(100))"
      ],
      "metadata": {
        "colab": {
          "base_uri": "https://localhost:8080/"
        },
        "id": "QahflXy2vJdj",
        "outputId": "7589cd46-5829-4580-e535-434d7db12ae3"
      },
      "execution_count": null,
      "outputs": [
        {
          "output_type": "stream",
          "name": "stdout",
          "text": [
            "[1, 2, 'apa', 4, 'bole', 'apa', 7, 8, 'apa', 'bole', 11, 'apa', 13, 14, 'apabole', 16, 17, 'apa', 19, 'bole', 'apa', 22, 23, 'apa', 'bole', 26, 'apa', 28, 29, 'apabole', 31, 32, 'apa', 34, 'bole', 'apa', 37, 38, 'apa', 'bole', 41, 'apa', 43, 44, 'apabole', 46, 47, 'apa', 49, 'bole', 'apa', 52, 53, 'apa', 'bole', 56, 'apa', 58, 59, 'apabole', 61, 62, 'apa', 64, 'bole', 'apa', 67, 68, 'apa', 'bole', 71, 'apa', 73, 74, 'apabole', 76, 77, 'apa', 79, 'bole', 'apa', 82, 83, 'apa', 'bole', 86, 'apa', 88, 89, 'apabole', 91, 92, 'apa', 94, 'bole', 'apa', 97, 98, 'apa', 'bole']\n"
          ]
        }
      ]
    }
  ]
}