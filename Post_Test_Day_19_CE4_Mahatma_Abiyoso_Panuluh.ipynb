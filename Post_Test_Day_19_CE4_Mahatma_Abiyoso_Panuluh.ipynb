{
  "nbformat": 4,
  "nbformat_minor": 5,
  "metadata": {
    "kernelspec": {
      "display_name": "Python 3",
      "language": "python",
      "name": "python3"
    },
    "language_info": {
      "codemirror_mode": {
        "name": "ipython",
        "version": 3
      },
      "file_extension": ".py",
      "mimetype": "text/x-python",
      "name": "python",
      "nbconvert_exporter": "python",
      "pygments_lexer": "ipython3",
      "version": "3.8.5"
    },
    "colab": {
      "name": "Post Test Day 19_CE4_Mahatma Abiyoso Panuluh.ipynb",
      "provenance": [],
      "collapsed_sections": [],
      "include_colab_link": true
    }
  },
  "cells": [
    {
      "cell_type": "markdown",
      "metadata": {
        "id": "view-in-github",
        "colab_type": "text"
      },
      "source": [
        "<a href=\"https://colab.research.google.com/github/mpanuluh/Coding-Exercise/blob/main/Post_Test_Day_19_CE4_Mahatma_Abiyoso_Panuluh.ipynb\" target=\"_parent\"><img src=\"https://colab.research.google.com/assets/colab-badge.svg\" alt=\"Open In Colab\"/></a>"
      ]
    },
    {
      "cell_type": "markdown",
      "metadata": {
        "id": "rgyHha0XVqWk"
      },
      "source": [
        "## Welcome to Coding Exercise 4\n",
        "**You only need to solve 2 question only**"
      ],
      "id": "rgyHha0XVqWk"
    },
    {
      "cell_type": "markdown",
      "metadata": {
        "id": "yYHzZQQ7VqWo"
      },
      "source": [
        "### Question 1. \n",
        "### \"Shifting Members of an Array\""
      ],
      "id": "yYHzZQQ7VqWo"
    },
    {
      "cell_type": "markdown",
      "metadata": {
        "id": "HnQ0f2qIVqWp"
      },
      "source": [
        "In this question, we want to shift our array to the right. How many times? Depends on the input. \n",
        "\n",
        "##### Example 1:\n",
        "array = [1,2,3,4,5]\n",
        "steps = 3\n",
        "\n",
        "We need to shift the array 3 steps to the right. \n",
        "- Original array = [1,2,3,4,5]\n",
        "- Step 1 = [5,1,2,3,4]\n",
        "- Step 2 = [4,5,1,2,3]\n",
        "- Step 3 = [3,4,5,1,2]\n",
        "\n",
        "Answer = [3,4,5,1,2]\n",
        "\n",
        "##### Example 2:\n",
        "array = [1,2,3]\n",
        "steps = 5\n",
        "\n",
        "We need to shift the array 5 steps to the right.\n",
        "\n",
        "- Original array = [1,2,3]\n",
        "- Step 1 = [3,1,2]\n",
        "- Step 2 = [2,3,1]\n",
        "- Step 3 = [1,2,3]\n",
        "- Step 4 = [3,1,2]\n",
        "- Step 5 = [2,3,1]\n",
        "\n",
        "Answer = [2,3,1]"
      ],
      "id": "HnQ0f2qIVqWp"
    },
    {
      "cell_type": "code",
      "metadata": {
        "id": "fJsYHD2DVqWq"
      },
      "source": [
        "### Write your function here ###\n",
        "def shift(array, steps):\n",
        "    return"
      ],
      "id": "fJsYHD2DVqWq",
      "execution_count": null,
      "outputs": []
    },
    {
      "cell_type": "code",
      "metadata": {
        "id": "bvmpT8ZxWtQc"
      },
      "source": [
        "### Solution\n",
        "\n",
        "def shift(array,steps):\n",
        "  import collections\n",
        "  x  = collections.deque(array)\n",
        "  x.rotate(steps)\n",
        "  return x"
      ],
      "id": "bvmpT8ZxWtQc",
      "execution_count": null,
      "outputs": []
    },
    {
      "cell_type": "code",
      "metadata": {
        "id": "qpDQUNijXhd7",
        "colab": {
          "base_uri": "https://localhost:8080/"
        },
        "outputId": "188ce2f3-0226-4c44-abed-b9a73f9bb1db"
      },
      "source": [
        "shift([1,2,3,4,5],4)\n",
        "\n",
        "# Expected Output: [2, 3, 4, 5, 1]"
      ],
      "id": "qpDQUNijXhd7",
      "execution_count": null,
      "outputs": [
        {
          "output_type": "execute_result",
          "data": {
            "text/plain": [
              "deque([2, 3, 4, 5, 1])"
            ]
          },
          "metadata": {},
          "execution_count": 33
        }
      ]
    },
    {
      "cell_type": "code",
      "metadata": {
        "id": "jnr5znJUVqWr",
        "colab": {
          "base_uri": "https://localhost:8080/"
        },
        "outputId": "5089e5ad-4fb6-4e80-b4e5-9a5af59a424a"
      },
      "source": [
        "shift(['andi', 'budi', 'charlie', 'doni'],7)\n",
        "\n",
        "# Expected Output: ['budi', 'charlie', 'doni', 'andi']"
      ],
      "id": "jnr5znJUVqWr",
      "execution_count": null,
      "outputs": [
        {
          "output_type": "execute_result",
          "data": {
            "text/plain": [
              "deque(['budi', 'charlie', 'doni', 'andi'])"
            ]
          },
          "metadata": {},
          "execution_count": 34
        }
      ]
    },
    {
      "cell_type": "code",
      "metadata": {
        "id": "LJaWSk-sW9ak",
        "colab": {
          "base_uri": "https://localhost:8080/"
        },
        "outputId": "7f5f93a2-3952-4cb9-e157-ef22ee0163d0"
      },
      "source": [
        "shift(['di', 'bim', 'bing', 123, 'data', 'science'],10)\n",
        "\n",
        "# Expected Output: ['bing', 123, 'data', 'science', 'di', 'bim']"
      ],
      "id": "LJaWSk-sW9ak",
      "execution_count": null,
      "outputs": [
        {
          "output_type": "execute_result",
          "data": {
            "text/plain": [
              "deque(['bing', 123, 'data', 'science', 'di', 'bim'])"
            ]
          },
          "metadata": {},
          "execution_count": 35
        }
      ]
    },
    {
      "cell_type": "markdown",
      "metadata": {
        "id": "MRxU2bsKVqWs"
      },
      "source": [
        "### Question 2. \n",
        "### \"Segitiga Paskal\""
      ],
      "id": "MRxU2bsKVqWs"
    },
    {
      "cell_type": "markdown",
      "metadata": {
        "id": "hBUS1vtjVqWs"
      },
      "source": [
        "We want to generate the n-th row of \"Pascal's Triangle\". Your function name should be ```pascal```. For those who does not know pascal triangle, watch this video: https://www.youtube.com/watch?v=1D3KsvfB8b0 and read https://www.mathsisfun.com/pascals-triangle.html \n",
        "\n",
        "##### Example 1:\n",
        "Input = 4,\n",
        "\n",
        "Answer = [1,4,6,4,1]\n",
        "\n",
        "##### Example 2:\n",
        "input = 3,\n",
        "\n",
        "Answer = [1,3,3,1]\n",
        "\n"
      ],
      "id": "hBUS1vtjVqWs"
    },
    {
      "cell_type": "code",
      "metadata": {
        "id": "2KDt9NdfVqWt"
      },
      "source": [
        "### Write your solution here ###\n",
        "def pascal(input):\n",
        "  currow = []\n",
        "  currow.append(1)\n",
        "  if (input == 0) :    \n",
        "      return currow    \n",
        "  prev = pascal(input - 1)\n",
        "  for i in range(1, len(prev)) :\n",
        "      curr = prev[i - 1] + prev[i]\n",
        "      currow.append(curr)\n",
        "  currow.append(1)\n",
        "  return currow"
      ],
      "id": "2KDt9NdfVqWt",
      "execution_count": null,
      "outputs": []
    },
    {
      "cell_type": "code",
      "metadata": {
        "id": "oRbvyp8oYsrU",
        "colab": {
          "base_uri": "https://localhost:8080/"
        },
        "outputId": "2f2129e2-b5b4-4265-d15c-74334118ad10"
      },
      "source": [
        "pascal(3)"
      ],
      "id": "oRbvyp8oYsrU",
      "execution_count": null,
      "outputs": [
        {
          "output_type": "execute_result",
          "data": {
            "text/plain": [
              "[1, 3, 3, 1]"
            ]
          },
          "metadata": {},
          "execution_count": 37
        }
      ]
    },
    {
      "cell_type": "code",
      "source": [
        "pascal(4)"
      ],
      "metadata": {
        "colab": {
          "base_uri": "https://localhost:8080/"
        },
        "id": "9velccAxpJ22",
        "outputId": "216e721e-3906-407b-f31c-acf046f2a888"
      },
      "id": "9velccAxpJ22",
      "execution_count": null,
      "outputs": [
        {
          "output_type": "execute_result",
          "data": {
            "text/plain": [
              "[1, 4, 6, 4, 1]"
            ]
          },
          "metadata": {},
          "execution_count": 38
        }
      ]
    },
    {
      "cell_type": "markdown",
      "metadata": {
        "id": "UJFlJIG_VqWv"
      },
      "source": [
        "### Question 3"
      ],
      "id": "UJFlJIG_VqWv"
    },
    {
      "cell_type": "markdown",
      "metadata": {
        "id": "q_vw2BtGVqWv"
      },
      "source": [
        "### \"Maximum Distance Between 3 Points\""
      ],
      "id": "q_vw2BtGVqWv"
    },
    {
      "cell_type": "markdown",
      "metadata": {
        "id": "k6qNbSInVqWw"
      },
      "source": [
        "Given three coordinates, determine which two points are the furthest apart, and output the length of their distance. Your function should be called ```max_distance```. First coordinate is called 'A', second coordinate is called 'B', third coordinate is called 'C'. \n",
        "\n",
        "\n",
        "##### Example:\n",
        "A = [1,2],\n",
        "B = [10,-10],\n",
        "C = [-3, 5]\n",
        "\n",
        "- The distance between AB = 15\n",
        "- The distance between BC = 19.8\n",
        "- The distance between AC = 8.06\n",
        "\n",
        "Answer = \"The point A, B are furthest apart with distance 19.8\"\n"
      ],
      "id": "k6qNbSInVqWw"
    },
    {
      "cell_type": "code",
      "metadata": {
        "id": "la5u9FV4VqWw"
      },
      "source": [
        "### Write your solution here ###\n",
        "def max_distance(A,B,C):\n",
        "  a1 = A[0]\n",
        "  a2 = A[1]\n",
        "  b1 = B[0]\n",
        "  b2 = B[1]\n",
        "  c1 = C[0]\n",
        "  c2 = C[1]\n",
        "  AB = ((b1-a1)**2 + (b2-a2)**2)**0.5\n",
        "  BC = ((c1-b1)**2 + (c2-b2)**2)**0.5\n",
        "  AC = ((c1-a1)**2 + (c2-a2)**2)**0.5\n",
        "  print('The distance between AB =', AB)\n",
        "  print('The distance between BC =', BC)\n",
        "  print('The distance between AC =', AC)\n",
        "  if AB > BC:\n",
        "    if AB > AC:\n",
        "      print('The point A, B are furthest apart with distance', AB)\n",
        "    else:\n",
        "      print('The point A, C are furthest apart with distance', AC)\n",
        "  elif BC > AC:\n",
        "    print('The point B, C are furthest apart with distance', BC)\n",
        "  else:\n",
        "    print('The point A, C are furthest apart with distance', AC)"
      ],
      "id": "la5u9FV4VqWw",
      "execution_count": null,
      "outputs": []
    },
    {
      "cell_type": "code",
      "metadata": {
        "id": "AOlaM0grVqWy",
        "colab": {
          "base_uri": "https://localhost:8080/"
        },
        "outputId": "98aa5322-570e-4f83-ffb7-00206479cd8d"
      },
      "source": [
        "max_distance([1,2],[10,-10],[-3,5])"
      ],
      "id": "AOlaM0grVqWy",
      "execution_count": null,
      "outputs": [
        {
          "output_type": "stream",
          "name": "stdout",
          "text": [
            "The distance between AB = 15.0\n",
            "The distance between BC = 19.849433241279208\n",
            "The distance between AC = 5.0\n",
            "The point B, C are furthest apart with distance 19.849433241279208\n"
          ]
        }
      ]
    },
    {
      "cell_type": "code",
      "metadata": {
        "id": "jowcVYLLVqWy",
        "colab": {
          "base_uri": "https://localhost:8080/"
        },
        "outputId": "784a2f33-a197-4614-91fb-7546fdee81f9"
      },
      "source": [
        "max_distance([15,10],[-22,33],[7,-20])"
      ],
      "id": "jowcVYLLVqWy",
      "execution_count": null,
      "outputs": [
        {
          "output_type": "stream",
          "name": "stdout",
          "text": [
            "The distance between AB = 43.56604182158393\n",
            "The distance between BC = 60.41522986797286\n",
            "The distance between AC = 31.04834939252005\n",
            "The point B, C are furthest apart with distance 60.41522986797286\n"
          ]
        }
      ]
    },
    {
      "cell_type": "code",
      "metadata": {
        "id": "LDshQYqhVqWy"
      },
      "source": [
        ""
      ],
      "id": "LDshQYqhVqWy",
      "execution_count": null,
      "outputs": []
    },
    {
      "cell_type": "code",
      "metadata": {
        "id": "bDrZLJjNVqWy"
      },
      "source": [
        ""
      ],
      "id": "bDrZLJjNVqWy",
      "execution_count": null,
      "outputs": []
    },
    {
      "cell_type": "code",
      "metadata": {
        "id": "O329KSX6VqWy"
      },
      "source": [
        ""
      ],
      "id": "O329KSX6VqWy",
      "execution_count": null,
      "outputs": []
    }
  ]
}