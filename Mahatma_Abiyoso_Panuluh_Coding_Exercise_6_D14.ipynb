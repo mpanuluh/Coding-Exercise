{
  "cells": [
    {
      "cell_type": "markdown",
      "metadata": {
        "id": "view-in-github",
        "colab_type": "text"
      },
      "source": [
        "<a href=\"https://colab.research.google.com/github/mpanuluh/Coding-Exercise/blob/main/Mahatma_Abiyoso_Panuluh_Coding_Exercise_6_D14.ipynb\" target=\"_parent\"><img src=\"https://colab.research.google.com/assets/colab-badge.svg\" alt=\"Open In Colab\"/></a>"
      ]
    },
    {
      "cell_type": "markdown",
      "metadata": {
        "id": "jaBGB8TVB9wI"
      },
      "source": [
        "## Welcome to Coding Exercise 6"
      ],
      "id": "jaBGB8TVB9wI"
    },
    {
      "cell_type": "markdown",
      "metadata": {
        "id": "4AGeWWi4B9wO"
      },
      "source": [
        "### Question 1. Points = 20 IF Answer is Correct, 30 IF Answer is Correct and your code consists of only 1 line.\n",
        "### \"Create Dictionary from 2 Lists\""
      ],
      "id": "4AGeWWi4B9wO"
    },
    {
      "cell_type": "markdown",
      "metadata": {
        "id": "uVPQmOQlB9wP"
      },
      "source": [
        "Given two list/array/vector of the same length. Create a dictionary that maps the first list/array/vector as keys, and the second list/array/vector as values. Your function name should be called ```dictionary```. \n",
        "\n",
        "#### Example 1:\n",
        "\n",
        "- keys = ['Sepuluh', 'Dua puluh', 'Tiga puluh']\n",
        "- values = [10, 20, 30]\n",
        "\n",
        "Your output should be a dictionary that looks like:\n",
        "```{'Ten': 10, 'Twenty': 20, 'Thirty': 30}```\n",
        "\n",
        "#### Example 2:\n",
        "\n",
        "- keys = ['Phone', 'Tablet', 'Laptop']\n",
        "- values = ['iPhone 11', 'iPad Mini', 'Macbook Pro']\n",
        "\n",
        "Your output should be a dictionary that looks like: \n",
        "```{'Phone': 'iPhone 11', 'Tablet': 'iPad Mini', 'Laptop': 'Macbook Pro'}```\n",
        "\n",
        "#### Challenge: Can you write this code with only 1 line? \n",
        "\n",
        "This problem can be solved without looping. To get full point, try to come up with a solution that solves the problem in just one line. What is a one-line solution? Look at the cell below to find out."
      ],
      "id": "uVPQmOQlB9wP"
    },
    {
      "cell_type": "code",
      "execution_count": null,
      "metadata": {
        "id": "GzoR_ZDwB9wQ"
      },
      "outputs": [],
      "source": [
        "### THIS IS AN EXAMPLE OF A MULTIPLE LINE SOLUTION ###\n",
        "\n",
        "def penjumlahan(x,y,z):\n",
        "    angka = [x,y,z]\n",
        "    hasil = 0\n",
        "    \n",
        "    for i in angka:\n",
        "        hasil = hasil + i\n",
        "    \n",
        "    return hasil\n",
        "\n",
        "\n",
        "### THIS IS AN EXAMPLE OF A ONE-LINE SOLUTION ###\n",
        "\n",
        "def penjumlahan(x,y,z):\n",
        "    return x + y + z\n",
        "\n",
        "### TRY TO SOLVE THIS PROBLEM WITH ONLY ONE LINE TO RECEIVE FULL SCORE ###"
      ],
      "id": "GzoR_ZDwB9wQ"
    },
    {
      "cell_type": "code",
      "execution_count": null,
      "metadata": {
        "id": "3vY3tT7MB9wR"
      },
      "outputs": [],
      "source": [
        "#define the function\n",
        "def dictionary(keys, values): \n",
        "  return {k:v for k, v in zip(keys, values)}"
      ],
      "id": "3vY3tT7MB9wR"
    },
    {
      "cell_type": "code",
      "source": [
        "#example 1\n",
        "keys = ['Sepuluh', 'Dua puluh', 'Tiga puluh']\n",
        "values = [10, 20, 30]\n",
        "dictionary(keys,values)"
      ],
      "metadata": {
        "colab": {
          "base_uri": "https://localhost:8080/"
        },
        "id": "0svXqHAjOHXg",
        "outputId": "ee533643-8e65-4d8d-f5b2-24f7900c9871"
      },
      "id": "0svXqHAjOHXg",
      "execution_count": null,
      "outputs": [
        {
          "output_type": "execute_result",
          "data": {
            "text/plain": [
              "{'Dua puluh': 20, 'Sepuluh': 10, 'Tiga puluh': 30}"
            ]
          },
          "metadata": {},
          "execution_count": 22
        }
      ]
    },
    {
      "cell_type": "code",
      "execution_count": null,
      "metadata": {
        "colab": {
          "base_uri": "https://localhost:8080/"
        },
        "id": "OZ6g-6NiB9wR",
        "outputId": "3335e2bb-f441-4d02-8048-c8a8f6a870bb"
      },
      "outputs": [
        {
          "output_type": "execute_result",
          "data": {
            "text/plain": [
              "{'Laptop': 'Macbook Pro', 'Phone': 'iPhone 11', 'Tablet': 'iPad Mini'}"
            ]
          },
          "metadata": {},
          "execution_count": 23
        }
      ],
      "source": [
        "#example 2\n",
        "keys = ['Phone', 'Tablet', 'Laptop']\n",
        "values = ['iPhone 11', 'iPad Mini', 'Macbook Pro']\n",
        "dictionary(keys,values)"
      ],
      "id": "OZ6g-6NiB9wR"
    },
    {
      "cell_type": "markdown",
      "metadata": {
        "id": "NfQ-EgIuB9wT"
      },
      "source": [
        "### Question 2. Points = 30"
      ],
      "id": "NfQ-EgIuB9wT"
    },
    {
      "cell_type": "markdown",
      "metadata": {
        "id": "sZpYBSQqB9wT"
      },
      "source": [
        "### \"Fibonacci\""
      ],
      "id": "sZpYBSQqB9wT"
    },
    {
      "cell_type": "markdown",
      "metadata": {
        "id": "5ToQpm_TB9wU"
      },
      "source": [
        "Fibonacci is a sequence in which the nth term is the addition of (n-1) and (n-2) term. \n",
        "\n",
        "Fibonacci adalah barisan dimana suku ke-n adalah penjumlahan dari suku ke-(n-1) dan suku ke-(n-2).\n",
        "\n",
        "Your task is to guess the next fibonacci number after the input number, and tell us its position in the fibonacci series.\n",
        "\n",
        "The fibonacci sequence: 0, 1, 1, 2, 3, 5, 8, 13, 21, ....\n",
        "\n",
        "\n",
        "Your function name should be called `fibonacci`.\n",
        "\n",
        "#### Example 1:\n",
        "\n",
        "Input = 14\n",
        "\n",
        "Fibonacci Sequence = 0, 1, 1, 2, 3, 5, 8, 13, 21, ....\n",
        "\n",
        "The next fibonacci number after '14' is 21, and it is the 9th Fibonacci number. (The first fibonacci number is 0, the second fibonacci number is 1, the third fibonacci number is 1, the fourth fibonacci number is 2, etc).\n",
        "\n",
        "So, the answer should be: 'Next Fibonacci number is 21, and it is the 9th Fibonacci number'.\n",
        "\n",
        "\n",
        "#### Example 2:\n",
        "\n",
        "Input = 60\n",
        "\n",
        "Fibonacci Sequence = 0, 1, 1, 2, 3, 5, 8, 13, 21, 34, 55, 89, ...\n",
        "\n",
        "Answer: 'Next Fibonacci number is 89, and it is the 12th Fibonacci number'.\n",
        "\n",
        "\n",
        "#### Example 3:\n",
        "\n",
        "Input = 55\n",
        "\n",
        "Although 55 is a Fibonacci number, we should read the question again. Our task is to guess the NEXT Fibonacci number after our input number. So, the answer should be: 'Next Fibonacci number is 89, and it is the 12th Fibonacci number.'"
      ],
      "id": "5ToQpm_TB9wU"
    },
    {
      "cell_type": "code",
      "execution_count": null,
      "metadata": {
        "id": "VuAX5KRaB9wV"
      },
      "outputs": [],
      "source": [
        "def fibonacci(input_number):\n",
        "    return"
      ],
      "id": "VuAX5KRaB9wV"
    },
    {
      "cell_type": "code",
      "execution_count": null,
      "metadata": {
        "colab": {
          "base_uri": "https://localhost:8080/"
        },
        "id": "-3aT5-jGB9wV",
        "outputId": "9213da35-76d7-4735-bbd8-97a81339a005"
      },
      "outputs": [
        {
          "output_type": "stream",
          "name": "stdout",
          "text": [
            "enter the number of values18\n",
            "0\n",
            "1\n",
            "1\n",
            "2\n",
            "3\n",
            "5\n",
            "8\n",
            "13\n"
          ]
        }
      ],
      "source": [
        "def fib(x):\n",
        "    a=0\n",
        "    b=1\n",
        "    if x<=0:\n",
        "        print(\"in valid\")\n",
        "    elif x==1:\n",
        "        print(a)\n",
        "    else:\n",
        "        print(a)\n",
        "        print(b)\n",
        "        for i in range(2,x):\n",
        "            c=a+b\n",
        "            a=b\n",
        "            b=c\n",
        "            if(c<=x):\n",
        "                print(c)\n",
        "x=int(input(\"enter the number of values\"))\n",
        "fib(x)"
      ],
      "id": "-3aT5-jGB9wV"
    },
    {
      "cell_type": "code",
      "execution_count": null,
      "metadata": {
        "colab": {
          "base_uri": "https://localhost:8080/"
        },
        "id": "hExhVwhVB9wV",
        "outputId": "c6a97b6f-d08c-46d6-a3c4-6675c4848746"
      },
      "outputs": [
        {
          "output_type": "stream",
          "name": "stdout",
          "text": [
            "0\n",
            "1\n",
            "1\n",
            "2\n",
            "3\n",
            "5\n",
            "8\n",
            "13\n",
            "21\n",
            "34\n",
            "55\n",
            "89\n"
          ]
        }
      ],
      "source": [
        "fib = lambda n: 0 if n == 0 else ( 1 if n == 1 else fib(n-1) + fib(n-2))\n",
        "for i in range(12):\n",
        "    print(fib(i))"
      ],
      "id": "hExhVwhVB9wV"
    },
    {
      "cell_type": "markdown",
      "metadata": {
        "id": "pv7qPGwMB9wW"
      },
      "source": [
        "### Question 3. Points = 40"
      ],
      "id": "pv7qPGwMB9wW"
    },
    {
      "cell_type": "markdown",
      "metadata": {
        "id": "Wdij0XH7B9wW"
      },
      "source": [
        "### \"Scoring two Sets of Selection\""
      ],
      "id": "Wdij0XH7B9wW"
    },
    {
      "cell_type": "markdown",
      "metadata": {
        "id": "kYmBO1pgB9wW"
      },
      "source": [
        "You will receive 3 inputs in this problem.\n",
        "1. The first input will be all numbers in an list/array/vector. \n",
        "2. The second input will be distinct integers which are \"APPROVED\".\n",
        "3. The third input will be distinct integers which are \"NOT APPROVED\".\n",
        "\n",
        "Your function name should be `scoring`. \n",
        "\n",
        "Your function should read all numbers in the array:\n",
        "- If a number belongs to the APPROVED list, your score is added by 1\n",
        "- If a number belongs to the NOT APPROVED list, your score is reduced by 1\n",
        "- If a number does not belong to both list, your score stays the same.\n",
        "\n",
        "Your output will be the final score. \n",
        "\n",
        "\n",
        "#### Example 1:\n",
        "\n",
        "Input = [1,1,1,5,5,2,3,10]\n",
        "\n",
        "Approved = [1,3]\n",
        "\n",
        "Not approved = [5]\n",
        "\n",
        "- Starting score = 0\n",
        "- There are 3 values of '1' in the input. '1' belongs to the APPROVED set. So the score is added by 3. Score = 3\n",
        "- There are 2 values of '5' in the input. '5' belongs to the NOT APPROVED set. So the score is reduced by 2. Score = 1\n",
        "- There are 1 value of '3' in the input. '3' belongs to the APPROVED set. So the score is added by 1. Score = 2.\n",
        "- Final score = 2\n",
        "\n",
        "Output = 2.\n",
        "\n",
        "\n",
        "#### Example 2:\n",
        "\n",
        "Input = [1,2,3,4,10,9,8,7]\n",
        "\n",
        "Approved = [1,10,11]\n",
        "\n",
        "Not approved = [8,5]\n",
        "\n",
        "- Starting score = 0\n",
        "- There are 1 value of '1' in the input. '1' belongs to the APPROVED set. So the score is added by 1. Score = 1\n",
        "- There are 1 value of '10' in the input. '10' belongs to the APPROVED set. So the score is added by 1. Score = 2.\n",
        "- In the approved set, we have the number '11'. But the number '11' is not in the input. So, we don't do anything about it.\n",
        "- There are 1 value of '8' in the input. '8' belongs to the NOT APPROVED set. So the score is reduced by 1. Score = 1.\n",
        "- In the not approved set, we haev the number '5'. But the number '5' is not in the input. So, we don't do anything about it.\n",
        "- Final score = 1. \n",
        "\n",
        "Output = 1."
      ],
      "id": "kYmBO1pgB9wW"
    },
    {
      "cell_type": "code",
      "execution_count": null,
      "metadata": {
        "id": "WWc3XOXFB9wX"
      },
      "outputs": [],
      "source": [
        "def scoring(input_array, approved, not_approved):\n",
        "    return"
      ],
      "id": "WWc3XOXFB9wX"
    },
    {
      "cell_type": "code",
      "execution_count": null,
      "metadata": {
        "id": "4q9b1MZUB9wX"
      },
      "outputs": [],
      "source": [
        ""
      ],
      "id": "4q9b1MZUB9wX"
    },
    {
      "cell_type": "code",
      "execution_count": null,
      "metadata": {
        "id": "biJtfGrhB9wX"
      },
      "outputs": [],
      "source": [
        ""
      ],
      "id": "biJtfGrhB9wX"
    },
    {
      "cell_type": "code",
      "execution_count": null,
      "metadata": {
        "id": "ZLH362o7B9wX"
      },
      "outputs": [],
      "source": [
        ""
      ],
      "id": "ZLH362o7B9wX"
    },
    {
      "cell_type": "code",
      "execution_count": null,
      "metadata": {
        "id": "78SSkTIiB9wY"
      },
      "outputs": [],
      "source": [
        ""
      ],
      "id": "78SSkTIiB9wY"
    },
    {
      "cell_type": "code",
      "execution_count": null,
      "metadata": {
        "id": "AqFEvWn4B9wY"
      },
      "outputs": [],
      "source": [
        ""
      ],
      "id": "AqFEvWn4B9wY"
    },
    {
      "cell_type": "code",
      "execution_count": null,
      "metadata": {
        "id": "ldRcGYwoB9wY"
      },
      "outputs": [],
      "source": [
        ""
      ],
      "id": "ldRcGYwoB9wY"
    },
    {
      "cell_type": "code",
      "execution_count": null,
      "metadata": {
        "id": "JYtF-07GB9wY"
      },
      "outputs": [],
      "source": [
        ""
      ],
      "id": "JYtF-07GB9wY"
    },
    {
      "cell_type": "code",
      "execution_count": null,
      "metadata": {
        "id": "7RaQZpMaB9wY"
      },
      "outputs": [],
      "source": [
        ""
      ],
      "id": "7RaQZpMaB9wY"
    },
    {
      "cell_type": "code",
      "execution_count": null,
      "metadata": {
        "id": "f-nEXNosB9wZ"
      },
      "outputs": [],
      "source": [
        ""
      ],
      "id": "f-nEXNosB9wZ"
    },
    {
      "cell_type": "code",
      "execution_count": null,
      "metadata": {
        "id": "P43oAUnyB9wZ"
      },
      "outputs": [],
      "source": [
        ""
      ],
      "id": "P43oAUnyB9wZ"
    },
    {
      "cell_type": "code",
      "execution_count": null,
      "metadata": {
        "id": "ZVy8XHF9B9wZ"
      },
      "outputs": [],
      "source": [
        ""
      ],
      "id": "ZVy8XHF9B9wZ"
    },
    {
      "cell_type": "code",
      "execution_count": null,
      "metadata": {
        "id": "ZFxzkp4dB9wZ"
      },
      "outputs": [],
      "source": [
        ""
      ],
      "id": "ZFxzkp4dB9wZ"
    },
    {
      "cell_type": "code",
      "execution_count": null,
      "metadata": {
        "id": "TB-l3IW7B9wZ"
      },
      "outputs": [],
      "source": [
        ""
      ],
      "id": "TB-l3IW7B9wZ"
    },
    {
      "cell_type": "code",
      "execution_count": null,
      "metadata": {
        "id": "FDP07gS9B9wZ"
      },
      "outputs": [],
      "source": [
        ""
      ],
      "id": "FDP07gS9B9wZ"
    },
    {
      "cell_type": "code",
      "execution_count": null,
      "metadata": {
        "id": "cFZIlrlEB9wZ"
      },
      "outputs": [],
      "source": [
        ""
      ],
      "id": "cFZIlrlEB9wZ"
    }
  ],
  "metadata": {
    "kernelspec": {
      "display_name": "Python 3",
      "language": "python",
      "name": "python3"
    },
    "language_info": {
      "codemirror_mode": {
        "name": "ipython",
        "version": 3
      },
      "file_extension": ".py",
      "mimetype": "text/x-python",
      "name": "python",
      "nbconvert_exporter": "python",
      "pygments_lexer": "ipython3",
      "version": "3.8.5"
    },
    "colab": {
      "name": "Mahatma Abiyoso Panuluh Coding Exercise 6 D14.ipynb",
      "provenance": [],
      "include_colab_link": true
    }
  },
  "nbformat": 4,
  "nbformat_minor": 5
}